{
 "cells": [
  {
   "cell_type": "code",
   "execution_count": 229,
   "metadata": {},
   "outputs": [
    {
     "data": {
      "text/plain": [
       "'\\nMongo shell commands to create geoloc field in each document and create an index on geoloc\\n\\ndb.Yelp.aggregate([\\n   { $addFields: { \\n    geoloc: {\\n      \"type\" : \"Point\",\\n      \"coordinates\" : [\\n        {\"$toDecimal\" : \"$longitude\"},\\n        {\"$toDecimal\" : \"$latitude\"}\\n        ]\\n      }\\n    }\\n  },\\n  { $out : \"YelpGeo\" }\\n])\\n\\ndb.Yelp.createIndex( { geoloc : \"2dsphere\" } )\\n'"
      ]
     },
     "execution_count": 229,
     "metadata": {},
     "output_type": "execute_result"
    }
   ],
   "source": [
    "import numpy as np\n",
    "import pandas as pd\n",
    "import matplotlib.pyplot as plt\n",
    "import seaborn as sns\n",
    "\n",
    "import json\n",
    "import requests\n",
    "\n",
    "import pymongo\n",
    "from pymongo import MongoClient\n",
    "from pprint import pprint\n",
    "\n",
    "\n",
    "'''\n",
    "Mongo shell commands to create geoloc field in each document and create an index on geoloc\n",
    "\n",
    "db.Yelp.aggregate([\n",
    "   { $addFields: { \n",
    "    geoloc: {\n",
    "      \"type\" : \"Point\",\n",
    "      \"coordinates\" : [\n",
    "        {\"$toDecimal\" : \"$longitude\"},\n",
    "        {\"$toDecimal\" : \"$latitude\"}\n",
    "        ]\n",
    "      }\n",
    "    }\n",
    "  },\n",
    "  { $out : \"YelpGeo\" }\n",
    "])\n",
    "\n",
    "db.Yelp.createIndex( { geoloc : \"2dsphere\" } )\n",
    "'''"
   ]
  },
  {
   "cell_type": "markdown",
   "metadata": {},
   "source": [
    "# PyMongo Setup and Querying"
   ]
  },
  {
   "cell_type": "code",
   "execution_count": 230,
   "metadata": {},
   "outputs": [],
   "source": [
    "client = MongoClient()\n",
    "db = client['DS4300']\n",
    "yelp_collection = db['YelpGeo']"
   ]
  },
  {
   "cell_type": "code",
   "execution_count": 231,
   "metadata": {},
   "outputs": [
    {
     "name": "stdout",
     "output_type": "stream",
     "text": [
      "{'_id': ObjectId('622198b2b5127b859164a21e'),\n",
      " 'address': '921 Pearl St',\n",
      " 'attributes': {'Alcohol': \"'beer_and_wine'\",\n",
      "                'Ambience': \"{'touristy': False, 'hipster': False, 'romantic': \"\n",
      "                            \"False, 'divey': False, 'intimate': False, \"\n",
      "                            \"'trendy': False, 'upscale': False, 'classy': \"\n",
      "                            \"False, 'casual': True}\",\n",
      "                'BikeParking': 'True',\n",
      "                'BusinessAcceptsBitcoin': 'False',\n",
      "                'BusinessAcceptsCreditCards': 'True',\n",
      "                'BusinessParking': \"{'garage': False, 'street': True, \"\n",
      "                                   \"'validated': False, 'lot': False, 'valet': \"\n",
      "                                   'False}',\n",
      "                'Caters': 'True',\n",
      "                'DogsAllowed': 'False',\n",
      "                'GoodForMeal': \"{'dessert': False, 'latenight': False, \"\n",
      "                               \"'lunch': False, 'dinner': False, 'brunch': \"\n",
      "                               \"False, 'breakfast': False}\",\n",
      "                'HappyHour': 'True',\n",
      "                'HasTV': 'True',\n",
      "                'NoiseLevel': \"u'average'\",\n",
      "                'OutdoorSeating': 'True',\n",
      "                'RestaurantsAttire': \"'casual'\",\n",
      "                'RestaurantsDelivery': 'None',\n",
      "                'RestaurantsGoodForGroups': 'True',\n",
      "                'RestaurantsPriceRange2': '2',\n",
      "                'RestaurantsReservations': 'False',\n",
      "                'RestaurantsTableService': 'True',\n",
      "                'RestaurantsTakeOut': 'True',\n",
      "                'WheelchairAccessible': 'True',\n",
      "                'WiFi': \"u'free'\"},\n",
      " 'business_id': '6iYb2HFDywm3zjuRg0shjw',\n",
      " 'categories': 'Gastropubs, Food, Beer Gardens, Restaurants, Bars, American '\n",
      "               '(Traditional), Beer Bar, Nightlife, Breweries',\n",
      " 'city': 'Boulder',\n",
      " 'geoloc': {'coordinates': [Decimal128('-105.283348100000'),\n",
      "                            Decimal128('40.0175444000000')],\n",
      "            'type': 'Point'},\n",
      " 'hours': {'Friday': '11:0-23:0',\n",
      "           'Monday': '11:0-23:0',\n",
      "           'Saturday': '11:0-23:0',\n",
      "           'Sunday': '11:0-23:0',\n",
      "           'Thursday': '11:0-23:0',\n",
      "           'Tuesday': '11:0-23:0',\n",
      "           'Wednesday': '11:0-23:0'},\n",
      " 'is_open': 1,\n",
      " 'latitude': 40.0175444,\n",
      " 'longitude': -105.2833481,\n",
      " 'name': 'Oskar Blues Taproom',\n",
      " 'postal_code': '80302',\n",
      " 'review_count': 86,\n",
      " 'stars': 4,\n",
      " 'state': 'CO'}\n"
     ]
    }
   ],
   "source": [
    "# Example document\n",
    "pprint(yelp_collection.find_one())"
   ]
  },
  {
   "cell_type": "markdown",
   "metadata": {},
   "source": [
    "#### Q1. How many establishments are there total, how many have 5 stars?"
   ]
  },
  {
   "cell_type": "code",
   "execution_count": 235,
   "metadata": {},
   "outputs": [
    {
     "name": "stdout",
     "output_type": "stream",
     "text": [
      "160585\n",
      "19953\n"
     ]
    }
   ],
   "source": [
    "print(yelp_collection.count_documents({}))\n",
    "\n",
    "establishments_5_stars = yelp_collection.find({'stars': 5})\n",
    "print(len(list(establishments_5_stars)))"
   ]
  },
  {
   "cell_type": "markdown",
   "metadata": {},
   "source": [
    "#### Q2. Which establishment has the least stars and what city is it in?"
   ]
  },
  {
   "cell_type": "code",
   "execution_count": 237,
   "metadata": {},
   "outputs": [
    {
     "name": "stdout",
     "output_type": "stream",
     "text": [
      "Magical Pizza Express, Orlando\n"
     ]
    }
   ],
   "source": [
    "least_stars = yelp_collection.find_one(sort=[('stars', 1)])\n",
    "print(least_stars['name'] + ', ' + least_stars['city'])"
   ]
  },
  {
   "cell_type": "markdown",
   "metadata": {},
   "source": [
    "#### Q3. What is the number of establishments for each star rating?"
   ]
  },
  {
   "cell_type": "code",
   "execution_count": 239,
   "metadata": {},
   "outputs": [
    {
     "name": "stdout",
     "output_type": "stream",
     "text": [
      "{'_id': 1, 'num_establishments': 1686}\n",
      "{'_id': 1.5, 'num_establishments': 4157}\n",
      "{'_id': 2, 'num_establishments': 8523}\n",
      "{'_id': 2.5, 'num_establishments': 13720}\n",
      "{'_id': 3, 'num_establishments': 21583}\n",
      "{'_id': 3.5, 'num_establishments': 28835}\n",
      "{'_id': 4, 'num_establishments': 34056}\n",
      "{'_id': 4.5, 'num_establishments': 28072}\n",
      "{'_id': 5, 'num_establishments': 19953}\n"
     ]
    }
   ],
   "source": [
    "star_counts = yelp_collection.aggregate(\n",
    "        [{\"$group\" : \n",
    "            {\"_id\" : \"$stars\", \n",
    "            \"num_establishments\" : {\"$sum\" : 1}\n",
    "         }},\n",
    "         {'$sort' : \n",
    "            {'_id' : 1}}\n",
    "    ])\n",
    "    \n",
    "for i in star_counts:\n",
    "    pprint(i)"
   ]
  },
  {
   "cell_type": "markdown",
   "metadata": {},
   "source": [
    "#### Q4. What is the number of establishments for each star rating, specifically in Boston?"
   ]
  },
  {
   "cell_type": "code",
   "execution_count": 240,
   "metadata": {},
   "outputs": [
    {
     "name": "stdout",
     "output_type": "stream",
     "text": [
      "{'_id': 1, 'num_establishments': 97}\n",
      "{'_id': 1.5, 'num_establishments': 194}\n",
      "{'_id': 2, 'num_establishments': 395}\n",
      "{'_id': 2.5, 'num_establishments': 705}\n",
      "{'_id': 3, 'num_establishments': 1233}\n",
      "{'_id': 3.5, 'num_establishments': 1674}\n",
      "{'_id': 4, 'num_establishments': 1788}\n",
      "{'_id': 4.5, 'num_establishments': 1312}\n",
      "{'_id': 5, 'num_establishments': 865}\n"
     ]
    }
   ],
   "source": [
    "boston_star_counts = yelp_collection.aggregate(\n",
    "        [\n",
    "            { '$match' : { 'city' : 'Boston' } },\n",
    "            {\"$group\" : \n",
    "                {\"_id\" : \"$stars\", \n",
    "                \"num_establishments\" : {\"$sum\" : 1}\n",
    "                }\n",
    "            },\n",
    "            {'$sort' : {'_id' : 1}}\n",
    "    ])\n",
    "    \n",
    "for i in boston_star_counts:\n",
    "    pprint(i)"
   ]
  },
  {
   "cell_type": "markdown",
   "metadata": {},
   "source": [
    "#### Q5. What is the average star count and the total number of reviews for each city, sorted by number of reviews descending?"
   ]
  },
  {
   "cell_type": "code",
   "execution_count": 257,
   "metadata": {},
   "outputs": [
    {
     "name": "stdout",
     "output_type": "stream",
     "text": [
      "{'_id': 'Austin', 'avg_stars': 3.8545681655960027, 'num_reviews': 22416}\n",
      "{'_id': 'Portland', 'avg_stars': 3.9191342086469265, 'num_reviews': 18203}\n",
      "{'_id': 'Vancouver', 'avg_stars': 3.611515378844711, 'num_reviews': 13330}\n",
      "{'_id': 'Atlanta', 'avg_stars': 3.523826514430701, 'num_reviews': 12612}\n",
      "{'_id': 'Orlando', 'avg_stars': 3.5376045877597067, 'num_reviews': 10637}\n",
      "{'_id': 'Boston', 'avg_stars': 3.6160595425390296, 'num_reviews': 8263}\n",
      "{'_id': 'Columbus', 'avg_stars': 3.54009647271631, 'num_reviews': 6634}\n",
      "{'_id': 'Boulder', 'avg_stars': 3.7793076317859953, 'num_reviews': 2542}\n",
      "{'_id': 'Cambridge', 'avg_stars': 3.6496095355528153, 'num_reviews': 2433}\n",
      "{'_id': 'Beaverton', 'avg_stars': 3.6949378330373004, 'num_reviews': 2252}\n"
     ]
    }
   ],
   "source": [
    "avg_stars_per_city_and_counts = yelp_collection.aggregate(\n",
    "        [\n",
    "            {\"$group\" : \n",
    "                {\"_id\" : \"$city\", \n",
    "                \"avg_stars\" : {\"$avg\" : \"$stars\"},\n",
    "                \"num_reviews\" : {\"$sum\" : 1}\n",
    "            }},\n",
    "                        \n",
    "            {'$sort' : {'num_reviews' : -1}},\n",
    "    ])\n",
    "    \n",
    "for i, item in enumerate(avg_stars_per_city_and_counts):\n",
    "    if i < 10:\n",
    "        pprint(item)\n",
    "    else:\n",
    "        break"
   ]
  },
  {
   "cell_type": "markdown",
   "metadata": {},
   "source": [
    "#### Q6. What is the distribution of average star counts for each city, including each city's coordinates?"
   ]
  },
  {
   "cell_type": "code",
   "execution_count": 253,
   "metadata": {},
   "outputs": [
    {
     "name": "stdout",
     "output_type": "stream",
     "text": [
      "{'_id': 'Altamonte Springs',\n",
      " 'avg_stars': 3.4731800766283527,\n",
      " 'latitude': 28.6647602866696,\n",
      " 'longitude': -81.39371811195926}\n",
      "{'_id': 'Ocoee',\n",
      " 'avg_stars': 3.577639751552795,\n",
      " 'latitude': 28.556479655476085,\n",
      " 'longitude': -81.53176501550652}\n",
      "{'_id': 'Spring Valley',\n",
      " 'avg_stars': 5.0,\n",
      " 'latitude': 42.4114714,\n",
      " 'longitude': -71.012537}\n",
      "{'_id': 'Prontland',\n",
      " 'avg_stars': 5.0,\n",
      " 'latitude': 45.455382,\n",
      " 'longitude': -122.5861553}\n",
      "{'_id': 'E Boston',\n",
      " 'avg_stars': 3.5,\n",
      " 'latitude': 42.3735248,\n",
      " 'longitude': -71.0406306}\n"
     ]
    }
   ],
   "source": [
    "avg_stars_per_city = yelp_collection.aggregate(\n",
    "        [\n",
    "            {\"$group\" : \n",
    "                {\"_id\" : \"$city\",\n",
    "                    \"latitude\" : {\"$avg\" : \"$latitude\"},\n",
    "                    \"longitude\" : {\"$avg\" : \"$longitude\"},\n",
    "                    \"avg_stars\" : {\"$avg\" : \"$stars\"}\n",
    "                }\n",
    "            }\n",
    "    ])\n",
    "\n",
    "avg_stars_list = list(avg_stars_per_city)\n",
    "    \n",
    "for i, item in enumerate(avg_stars_list):\n",
    "    if i < 5:\n",
    "        pprint(item)\n",
    "    else:\n",
    "        break"
   ]
  },
  {
   "cell_type": "markdown",
   "metadata": {},
   "source": [
    "#### Data Visualization"
   ]
  },
  {
   "cell_type": "code",
   "execution_count": 254,
   "metadata": {},
   "outputs": [
    {
     "data": {
      "image/png": "[encoded data removed]",
      "text/plain": [
       "<Figure size 432x288 with 1 Axes>"
      ]
     },
     "metadata": {
      "needs_background": "light"
     },
     "output_type": "display_data"
    }
   ],
   "source": [
    "# Process PyMongo output for data visualizations\n",
    "\n",
    "avg_star_data = []\n",
    "lat_data = []\n",
    "long_data = []\n",
    "\n",
    "for record in avg_stars_list:\n",
    "    avg_star_data.append(record['avg_stars'])\n",
    "    lat_data.append(record['latitude'])\n",
    "    long_data.append(record['longitude'])\n",
    "\n",
    "sns.histplot(x=avg_star_data, bins=8)\n",
    "plt.title('Distribution of Average Stars per City')\n",
    "plt.xlabel('Average Stars')\n",
    "plt.savefig('avg_stars_per_city.png', bbox_inches = 'tight')"
   ]
  },
  {
   "cell_type": "markdown",
   "metadata": {},
   "source": [
    "#### Visualization Interpretation:\n",
    "The visualization reveals that the distribution of the average star ratings per city is <u>unimodal</u> and <u>heavily skewed to the left</u>. It appears <u>centered on 3.5 - 4 stars</u>. This means that average star ratings per city tend to be on the higher end, with very few cities having a low average rating. Additionally, it's revealed that more cities have the highest average rating of 4.5 - 5 stars compared to those just below with 4 - 4.5 stars, which is surprising to see. However, this may be due to the fact that when a city has some highly rated establishments, their surrounding businesses must also provide great products and services in order to compete and remain in business. Therefore highly rated businesses will be clustered together, and thus raise the frequency of cities that have the highest average rating."
   ]
  },
  {
   "cell_type": "markdown",
   "metadata": {},
   "source": [
    "#### Data Visualization 2 (Ignore)"
   ]
  },
  {
   "cell_type": "code",
   "execution_count": 255,
   "metadata": {},
   "outputs": [
    {
     "data": {
      "text/plain": [
       "Text(0.5, 6.79999999999999, 'Latitude')"
      ]
     },
     "execution_count": 255,
     "metadata": {},
     "output_type": "execute_result"
    },
    {
     "data": {
      "image/png": "[encoded data removed]",
      "text/plain": [
       "<Figure size 412x360 with 1 Axes>"
      ]
     },
     "metadata": {
      "needs_background": "light"
     },
     "output_type": "display_data"
    }
   ],
   "source": [
    "scatter = sns.relplot(x=lat_data, y=long_data, hue=avg_star_data, legend=True)\n",
    "plt.title('Geolocation and Average Star Rating')\n",
    "plt.ylabel('Longitude')\n",
    "plt.xlabel('Latitude')\n",
    "# plt.savefig('geolocation_and_avg_stars.png', bbox_inches = 'tight')"
   ]
  },
  {
   "cell_type": "markdown",
   "metadata": {},
   "source": [
    "#### Q7. How many locations are within 5000 meters of Mr G's Pizza & Subs?"
   ]
  },
  {
   "cell_type": "code",
   "execution_count": 213,
   "metadata": {},
   "outputs": [
    {
     "data": {
      "text/plain": [
       "1122"
      ]
     },
     "execution_count": 213,
     "metadata": {},
     "output_type": "execute_result"
    }
   ],
   "source": [
    "target = yelp_collection.find_one({'name' : 'Mr G\\'s Pizza & Subs'})['geoloc']\n",
    "\n",
    "res = yelp_collection.find({\n",
    "    \"geoloc\": {\n",
    "        '$near': {\n",
    "            '$geometry':\n",
    "                target,\n",
    "                '$maxDistance': 5000\n",
    "        }\n",
    "    }\n",
    "})\n",
    "\n",
    "len(list(res))"
   ]
  },
  {
   "cell_type": "markdown",
   "metadata": {},
   "source": [
    "#### Q8. What are the 10 nearest establishments to Northeastern's Boston campus, sorted alphabetically by name?"
   ]
  },
  {
   "cell_type": "code",
   "execution_count": 244,
   "metadata": {},
   "outputs": [
    {
     "name": "stdout",
     "output_type": "stream",
     "text": [
      "Artisan Eats Cafe & Fine Foods\n",
      "Cocoa West Chocolatier\n",
      "Cypress Mountain\n",
      "Eagle Bluffs\n",
      "JPizle Kitchen\n",
      "Karen Magnussen Community Recreation Centre\n",
      "Killarney Lake\n",
      "Lions Bay General Store and Cafe\n",
      "Sea to Sky Highway\n",
      "St. Mark's Summit\n"
     ]
    }
   ],
   "source": [
    "close_to_nu = yelp_collection.aggregate([\n",
    "  { \"$geoNear\": {\n",
    "     \"near\": {'type' : 'Point', 'coordinates' : [ 71.0892, 42.3398 ] },\n",
    "     \"distanceField\": \"distance\"\n",
    "    }\n",
    "  },\n",
    "  {\n",
    "    '$limit' : 10\n",
    "  },\n",
    "  {\n",
    "    '$sort' : {'name' : 1}\n",
    "  }\n",
    "])\n",
    "\n",
    "nu_list = list(close_to_nu)\n",
    "for place in nu_list:\n",
    "  print(place['name'])"
   ]
  },
  {
   "cell_type": "markdown",
   "metadata": {},
   "source": [
    "#### Q9. What proportion of all the establishments have 4+ stars and 10+ reviews?"
   ]
  },
  {
   "cell_type": "code",
   "execution_count": 245,
   "metadata": {},
   "outputs": [
    {
     "data": {
      "text/plain": [
       "0.348"
      ]
     },
     "execution_count": 245,
     "metadata": {},
     "output_type": "execute_result"
    }
   ],
   "source": [
    "good_places = yelp_collection.find(\n",
    "                                    {'stars': {'$gte' : 4},\n",
    "                                    'review_count' : {'$gte' : 10}\n",
    "                                })\n",
    "                                \n",
    "round(len(list(good_places)) / yelp_collection.count_documents({}), 3)"
   ]
  },
  {
   "cell_type": "markdown",
   "metadata": {},
   "source": [
    "##### Q10. What proportion of establishments North of Kansas are highly rated? What about the proportion South of Kansas? (Kansas is the geographical center of the U.S.)"
   ]
  },
  {
   "cell_type": "code",
   "execution_count": 246,
   "metadata": {},
   "outputs": [
    {
     "name": "stdout",
     "output_type": "stream",
     "text": [
      "North of Kansas: 0.294\n",
      "South of Kansas: 0.311\n"
     ]
    }
   ],
   "source": [
    "n_kansas_and_high = yelp_collection.count_documents( {'$and' : [ {'latitude' : {'$gt':40 }}, {'stars' : {'$gte': 4.5 }} ]})\n",
    "n_kansas = yelp_collection.count_documents( {'latitude' : {'$gt': 40 }} )\n",
    "print(f'North of Kansas: {round(n_kansas_and_high/n_kansas, 3)}')\n",
    "\n",
    "s_kansas_and_high = yelp_collection.count_documents( {'$and' : [ {'latitude' : {'$lt': 37 }}, {'stars' : {'$gte': 4.5 }} ]})\n",
    "s_kansas = yelp_collection.count_documents( {'latitude' : {'$lt': 37 }} )\n",
    "print(f'South of Kansas: {round(s_kansas_and_high/s_kansas, 3)}')"
   ]
  }
 ],
 "metadata": {
  "interpreter": {
   "hash": "fa56ab3708cd3b998ef87f57af2a9e8ce5fcc945dc3d227a7e9bfb211d05ff6b"
  },
  "kernelspec": {
   "display_name": "Python 3.8.8 ('base')",
   "language": "python",
   "name": "python3"
  },
  "language_info": {
   "codemirror_mode": {
    "name": "ipython",
    "version": 3
   },
   "file_extension": ".py",
   "mimetype": "text/x-python",
   "name": "python",
   "nbconvert_exporter": "python",
   "pygments_lexer": "ipython3",
   "version": "3.8.8"
  },
  "orig_nbformat": 4
 },
 "nbformat": 4,
 "nbformat_minor": 2
}
