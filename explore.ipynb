{
 "cells": [
  {
   "cell_type": "code",
   "execution_count": 50,
   "metadata": {},
   "outputs": [
    {
     "data": {
      "text/plain": [
       "'\\nMongo shell commands to create geoloc field in each document and create an index on geoloc\\n\\ndb.Yelp.aggregate([\\n   { $addFields: { \\n    geoloc: {\\n      \"type\" : \"Point\",\\n      \"coordinates\" : [\\n        {\"$toDecimal\" : \"$longitude\"},\\n        {\"$toDecimal\" : \"$latitude\"}\\n        ]\\n      }\\n    }\\n  },\\n  { $out : \"YelpGeo\" }\\n])\\n\\ndb.Yelp.createIndex( { geoloc : \"2dsphere\" } )\\n'"
      ]
     },
     "execution_count": 50,
     "metadata": {},
     "output_type": "execute_result"
    }
   ],
   "source": [
    "import numpy as np\n",
    "import pandas as pd\n",
    "import matplotlib.pyplot as plt\n",
    "import seaborn as sns\n",
    "\n",
    "import json\n",
    "import requests\n",
    "\n",
    "import pymongo\n",
    "from pymongo import MongoClient\n",
    "from pprint import pprint\n",
    "\n",
    "\n",
    "'''\n",
    "Mongo shell commands to create geoloc field in each document and create an index on geoloc\n",
    "\n",
    "db.Yelp.aggregate([\n",
    "   { $addFields: { \n",
    "    geoloc: {\n",
    "      \"type\" : \"Point\",\n",
    "      \"coordinates\" : [\n",
    "        {\"$toDecimal\" : \"$longitude\"},\n",
    "        {\"$toDecimal\" : \"$latitude\"}\n",
    "        ]\n",
    "      }\n",
    "    }\n",
    "  },\n",
    "  { $out : \"YelpGeo\" }\n",
    "])\n",
    "\n",
    "db.Yelp.createIndex( { geoloc : \"2dsphere\" } )\n",
    "'''"
   ]
  },
  {
   "cell_type": "markdown",
   "metadata": {},
   "source": [
    "# PyMongo Setup and Querying"
   ]
  },
  {
   "cell_type": "code",
   "execution_count": 51,
   "metadata": {},
   "outputs": [],
   "source": [
    "client = MongoClient()\n",
    "db = client['DS4300']\n",
    "yelp_collection = db['YelpGeo']"
   ]
  },
  {
   "cell_type": "code",
   "execution_count": 52,
   "metadata": {},
   "outputs": [
    {
     "name": "stdout",
     "output_type": "stream",
     "text": [
      "{'_id': ObjectId('622198b2b5127b859164a21e'),\n",
      " 'address': '921 Pearl St',\n",
      " 'attributes': {'Alcohol': \"'beer_and_wine'\",\n",
      "                'Ambience': \"{'touristy': False, 'hipster': False, 'romantic': \"\n",
      "                            \"False, 'divey': False, 'intimate': False, \"\n",
      "                            \"'trendy': False, 'upscale': False, 'classy': \"\n",
      "                            \"False, 'casual': True}\",\n",
      "                'BikeParking': 'True',\n",
      "                'BusinessAcceptsBitcoin': 'False',\n",
      "                'BusinessAcceptsCreditCards': 'True',\n",
      "                'BusinessParking': \"{'garage': False, 'street': True, \"\n",
      "                                   \"'validated': False, 'lot': False, 'valet': \"\n",
      "                                   'False}',\n",
      "                'Caters': 'True',\n",
      "                'DogsAllowed': 'False',\n",
      "                'GoodForMeal': \"{'dessert': False, 'latenight': False, \"\n",
      "                               \"'lunch': False, 'dinner': False, 'brunch': \"\n",
      "                               \"False, 'breakfast': False}\",\n",
      "                'HappyHour': 'True',\n",
      "                'HasTV': 'True',\n",
      "                'NoiseLevel': \"u'average'\",\n",
      "                'OutdoorSeating': 'True',\n",
      "                'RestaurantsAttire': \"'casual'\",\n",
      "                'RestaurantsDelivery': 'None',\n",
      "                'RestaurantsGoodForGroups': 'True',\n",
      "                'RestaurantsPriceRange2': '2',\n",
      "                'RestaurantsReservations': 'False',\n",
      "                'RestaurantsTableService': 'True',\n",
      "                'RestaurantsTakeOut': 'True',\n",
      "                'WheelchairAccessible': 'True',\n",
      "                'WiFi': \"u'free'\"},\n",
      " 'business_id': '6iYb2HFDywm3zjuRg0shjw',\n",
      " 'categories': 'Gastropubs, Food, Beer Gardens, Restaurants, Bars, American '\n",
      "               '(Traditional), Beer Bar, Nightlife, Breweries',\n",
      " 'city': 'Boulder',\n",
      " 'geoloc': {'coordinates': [Decimal128('-105.283348100000'),\n",
      "                            Decimal128('40.0175444000000')],\n",
      "            'type': 'Point'},\n",
      " 'hours': {'Friday': '11:0-23:0',\n",
      "           'Monday': '11:0-23:0',\n",
      "           'Saturday': '11:0-23:0',\n",
      "           'Sunday': '11:0-23:0',\n",
      "           'Thursday': '11:0-23:0',\n",
      "           'Tuesday': '11:0-23:0',\n",
      "           'Wednesday': '11:0-23:0'},\n",
      " 'is_open': 1,\n",
      " 'latitude': 40.0175444,\n",
      " 'longitude': -105.2833481,\n",
      " 'name': 'Oskar Blues Taproom',\n",
      " 'postal_code': '80302',\n",
      " 'review_count': 86,\n",
      " 'stars': 4,\n",
      " 'state': 'CO'}\n"
     ]
    }
   ],
   "source": [
    "# Example document\n",
    "pprint(yelp_collection.find_one())"
   ]
  },
  {
   "cell_type": "markdown",
   "metadata": {},
   "source": [
    "#### Q1. How many establishments have 5 stars?"
   ]
  },
  {
   "cell_type": "code",
   "execution_count": 53,
   "metadata": {},
   "outputs": [
    {
     "data": {
      "text/plain": [
       "19953"
      ]
     },
     "execution_count": 53,
     "metadata": {},
     "output_type": "execute_result"
    }
   ],
   "source": [
    "num_5_stars = yelp_collection.find({'stars': 5})\n",
    "len(list(num_5_stars))"
   ]
  },
  {
   "cell_type": "markdown",
   "metadata": {},
   "source": [
    "#### Q2. Which establishment has the least stars?"
   ]
  },
  {
   "cell_type": "code",
   "execution_count": 54,
   "metadata": {},
   "outputs": [
    {
     "name": "stdout",
     "output_type": "stream",
     "text": [
      "{'_id': ObjectId('622198b2b5127b859164a251'),\n",
      " 'address': '3262 Vineland Rd, Ste 106',\n",
      " 'attributes': {'Alcohol': \"u'none'\",\n",
      "                'Ambience': \"{'romantic': False, 'intimate': False, \"\n",
      "                            \"'touristy': False, 'hipster': False, 'divey': \"\n",
      "                            \"False, 'classy': False, 'trendy': False, \"\n",
      "                            \"'upscale': False, 'casual': False}\",\n",
      "                'RestaurantsAttire': \"u'casual'\"},\n",
      " 'business_id': 'w4qVflIAbdklzG3mnKmQsg',\n",
      " 'categories': 'Italian, Restaurants',\n",
      " 'city': 'Orlando',\n",
      " 'geoloc': {'coordinates': [Decimal128('-81.4439500000000'),\n",
      "                            Decimal128('28.5205000000000')],\n",
      "            'type': 'Point'},\n",
      " 'hours': None,\n",
      " 'is_open': 1,\n",
      " 'latitude': 28.5205,\n",
      " 'longitude': -81.44395,\n",
      " 'name': 'Magical Pizza Express',\n",
      " 'postal_code': '32811',\n",
      " 'review_count': 8,\n",
      " 'stars': 1,\n",
      " 'state': 'FL'}\n"
     ]
    }
   ],
   "source": [
    "least_stars = yelp_collection.find_one(sort=[('stars', 1)])\n",
    "pprint(least_stars)"
   ]
  },
  {
   "cell_type": "markdown",
   "metadata": {},
   "source": [
    "#### Q3. What is the count of establishments for each star rating?"
   ]
  },
  {
   "cell_type": "code",
   "execution_count": 55,
   "metadata": {},
   "outputs": [
    {
     "name": "stdout",
     "output_type": "stream",
     "text": [
      "{'_id': 1, 'num_establishments': 1686}\n",
      "{'_id': 1.5, 'num_establishments': 4157}\n",
      "{'_id': 2, 'num_establishments': 8523}\n",
      "{'_id': 2.5, 'num_establishments': 13720}\n",
      "{'_id': 3, 'num_establishments': 21583}\n",
      "{'_id': 3.5, 'num_establishments': 28835}\n",
      "{'_id': 4, 'num_establishments': 34056}\n",
      "{'_id': 4.5, 'num_establishments': 28072}\n",
      "{'_id': 5, 'num_establishments': 19953}\n"
     ]
    }
   ],
   "source": [
    "star_counts = yelp_collection.aggregate(\n",
    "        [{\"$group\" : \n",
    "            {\"_id\" : \"$stars\", \n",
    "            \"num_establishments\" : {\"$sum\" : 1}\n",
    "         }},\n",
    "         {'$sort' : \n",
    "            {'_id' : 1}}\n",
    "    ])\n",
    "    \n",
    "for i in star_counts:\n",
    "    pprint(i)"
   ]
  },
  {
   "cell_type": "markdown",
   "metadata": {},
   "source": [
    "#### Q4. What is the count of establishments for each star rating specifically in Boston?"
   ]
  },
  {
   "cell_type": "code",
   "execution_count": 57,
   "metadata": {},
   "outputs": [
    {
     "name": "stdout",
     "output_type": "stream",
     "text": [
      "{'_id': 1, 'num_establishments': 97}\n",
      "{'_id': 1.5, 'num_establishments': 194}\n",
      "{'_id': 2, 'num_establishments': 395}\n",
      "{'_id': 2.5, 'num_establishments': 705}\n",
      "{'_id': 3, 'num_establishments': 1233}\n",
      "{'_id': 3.5, 'num_establishments': 1674}\n",
      "{'_id': 4, 'num_establishments': 1788}\n",
      "{'_id': 4.5, 'num_establishments': 1312}\n",
      "{'_id': 5, 'num_establishments': 865}\n"
     ]
    }
   ],
   "source": [
    "boston_star_counts = yelp_collection.aggregate(\n",
    "        [\n",
    "            { '$match' : { 'city' : 'Boston' } },\n",
    "            {\"$group\" : \n",
    "            {\"_id\" : \"$stars\", \n",
    "            \"num_establishments\" : {\"$sum\" : 1}\n",
    "            }},\n",
    "            {'$sort' : {'_id' : 1}}\n",
    "    ])\n",
    "    \n",
    "for i in boston_star_counts:\n",
    "    pprint(i)"
   ]
  },
  {
   "cell_type": "markdown",
   "metadata": {},
   "source": [
    "#### Q5. What is the distribution of average star counts for each city?"
   ]
  },
  {
   "cell_type": "code",
   "execution_count": 73,
   "metadata": {},
   "outputs": [
    {
     "name": "stdout",
     "output_type": "stream",
     "text": [
      "{'_id': 5.0, 'count': 77}\n",
      "{'_id': 4.833333333333333, 'count': 1}\n",
      "{'_id': 4.75, 'count': 10}\n",
      "{'_id': 4.714285714285714, 'count': 1}\n",
      "{'_id': 4.666666666666667, 'count': 1}\n",
      "{'_id': 4.5, 'count': 84}\n",
      "{'_id': 4.388888888888889, 'count': 1}\n",
      "{'_id': 4.385416666666667, 'count': 1}\n",
      "{'_id': 4.357142857142857, 'count': 1}\n",
      "{'_id': 4.333333333333333, 'count': 3}\n",
      "{'_id': 4.321428571428571, 'count': 1}\n",
      "{'_id': 4.318181818181818, 'count': 1}\n",
      "{'_id': 4.287878787878788, 'count': 1}\n",
      "{'_id': 4.285714285714286, 'count': 1}\n",
      "{'_id': 4.277777777777778, 'count': 1}\n",
      "{'_id': 4.25, 'count': 10}\n",
      "{'_id': 4.208333333333333, 'count': 1}\n",
      "{'_id': 4.2, 'count': 1}\n",
      "{'_id': 4.184210526315789, 'count': 1}\n",
      "{'_id': 4.166666666666667, 'count': 5}\n",
      "{'_id': 4.142857142857143, 'count': 2}\n",
      "{'_id': 4.13265306122449, 'count': 1}\n",
      "{'_id': 4.12962962962963, 'count': 1}\n",
      "{'_id': 4.107142857142857, 'count': 2}\n",
      "{'_id': 4.1, 'count': 1}\n",
      "{'_id': 4.083333333333333, 'count': 3}\n",
      "{'_id': 4.078947368421052, 'count': 1}\n",
      "{'_id': 4.076923076923077, 'count': 1}\n",
      "{'_id': 4.044444444444444, 'count': 1}\n",
      "{'_id': 4.025, 'count': 1}\n",
      "{'_id': 4.019685039370079, 'count': 1}\n",
      "{'_id': 4.0, 'count': 94}\n",
      "{'_id': 3.966666666666667, 'count': 1}\n",
      "{'_id': 3.9623824451410656, 'count': 1}\n",
      "{'_id': 3.9535398230088497, 'count': 1}\n",
      "{'_id': 3.9454545454545453, 'count': 1}\n",
      "{'_id': 3.9444444444444446, 'count': 1}\n",
      "{'_id': 3.94273127753304, 'count': 1}\n",
      "{'_id': 3.935064935064935, 'count': 1}\n",
      "{'_id': 3.93491124260355, 'count': 1}\n",
      "{'_id': 3.9285714285714284, 'count': 1}\n",
      "{'_id': 3.925755584756899, 'count': 1}\n",
      "{'_id': 3.9191342086469265, 'count': 1}\n",
      "{'_id': 3.9, 'count': 1}\n",
      "{'_id': 3.8943661971830985, 'count': 1}\n",
      "{'_id': 3.890625, 'count': 1}\n",
      "{'_id': 3.8846153846153846, 'count': 1}\n",
      "{'_id': 3.87888198757764, 'count': 1}\n",
      "{'_id': 3.875, 'count': 5}\n",
      "{'_id': 3.8666666666666667, 'count': 1}\n",
      "{'_id': 3.8636363636363638, 'count': 1}\n",
      "{'_id': 3.857142857142857, 'count': 1}\n",
      "{'_id': 3.8545681655960027, 'count': 1}\n",
      "{'_id': 3.842696629213483, 'count': 1}\n",
      "{'_id': 3.842201834862385, 'count': 1}\n",
      "{'_id': 3.8378378378378377, 'count': 1}\n",
      "{'_id': 3.8333333333333335, 'count': 4}\n",
      "{'_id': 3.8311965811965814, 'count': 1}\n",
      "{'_id': 3.8264462809917354, 'count': 1}\n",
      "{'_id': 3.825, 'count': 1}\n",
      "{'_id': 3.819488817891374, 'count': 1}\n",
      "{'_id': 3.8181818181818183, 'count': 1}\n",
      "{'_id': 3.8134796238244513, 'count': 1}\n",
      "{'_id': 3.809292649098474, 'count': 1}\n",
      "{'_id': 3.8082298136645965, 'count': 1}\n",
      "{'_id': 3.8, 'count': 2}\n",
      "{'_id': 3.7964169381107493, 'count': 1}\n",
      "{'_id': 3.7906976744186047, 'count': 1}\n",
      "{'_id': 3.7857142857142856, 'count': 1}\n",
      "{'_id': 3.784122562674095, 'count': 1}\n",
      "{'_id': 3.783333333333333, 'count': 1}\n",
      "{'_id': 3.7796052631578947, 'count': 1}\n",
      "{'_id': 3.7793076317859953, 'count': 1}\n",
      "{'_id': 3.7745098039215685, 'count': 1}\n",
      "{'_id': 3.7743732590529246, 'count': 1}\n",
      "{'_id': 3.7721749696233293, 'count': 1}\n",
      "{'_id': 3.769722814498934, 'count': 1}\n",
      "{'_id': 3.769230769230769, 'count': 1}\n",
      "{'_id': 3.768533772652389, 'count': 1}\n",
      "{'_id': 3.76798418972332, 'count': 1}\n",
      "{'_id': 3.763157894736842, 'count': 2}\n",
      "{'_id': 3.76, 'count': 1}\n",
      "{'_id': 3.75, 'count': 15}\n",
      "{'_id': 3.748427672955975, 'count': 1}\n",
      "{'_id': 3.7450980392156863, 'count': 1}\n",
      "{'_id': 3.7432432432432434, 'count': 1}\n",
      "{'_id': 3.7425149700598803, 'count': 1}\n",
      "{'_id': 3.7336448598130842, 'count': 1}\n",
      "{'_id': 3.7333333333333334, 'count': 1}\n",
      "{'_id': 3.730414746543779, 'count': 1}\n",
      "{'_id': 3.7271805273833674, 'count': 1}\n",
      "{'_id': 3.7214285714285715, 'count': 1}\n",
      "{'_id': 3.72, 'count': 2}\n",
      "{'_id': 3.716867469879518, 'count': 1}\n",
      "{'_id': 3.7155172413793105, 'count': 1}\n",
      "{'_id': 3.7142857142857144, 'count': 2}\n",
      "{'_id': 3.710526315789474, 'count': 1}\n",
      "{'_id': 3.7033898305084745, 'count': 1}\n",
      "{'_id': 3.7030947775628626, 'count': 1}\n",
      "{'_id': 3.7, 'count': 1}\n",
      "{'_id': 3.697478991596639, 'count': 1}\n",
      "{'_id': 3.695723684210526, 'count': 1}\n",
      "{'_id': 3.6954022988505746, 'count': 1}\n",
      "{'_id': 3.6949378330373004, 'count': 1}\n",
      "{'_id': 3.6946308724832213, 'count': 1}\n",
      "{'_id': 3.6927710843373496, 'count': 1}\n",
      "{'_id': 3.6927374301675977, 'count': 1}\n",
      "{'_id': 3.6921397379912664, 'count': 1}\n",
      "{'_id': 3.691919191919192, 'count': 1}\n",
      "{'_id': 3.690909090909091, 'count': 1}\n",
      "{'_id': 3.690566037735849, 'count': 1}\n",
      "{'_id': 3.6875, 'count': 2}\n",
      "{'_id': 3.6846153846153844, 'count': 1}\n",
      "{'_id': 3.681434599156118, 'count': 1}\n",
      "{'_id': 3.6785714285714284, 'count': 1}\n",
      "{'_id': 3.6783980582524274, 'count': 1}\n",
      "{'_id': 3.675548589341693, 'count': 1}\n",
      "{'_id': 3.672566371681416, 'count': 1}\n",
      "{'_id': 3.6706586826347305, 'count': 1}\n",
      "{'_id': 3.670103092783505, 'count': 1}\n",
      "{'_id': 3.6692913385826773, 'count': 1}\n",
      "{'_id': 3.66796875, 'count': 1}\n",
      "{'_id': 3.6666666666666665, 'count': 1}\n",
      "{'_id': 3.6599297012302285, 'count': 1}\n",
      "{'_id': 3.6597222222222223, 'count': 1}\n",
      "{'_id': 3.657142857142857, 'count': 1}\n",
      "{'_id': 3.65625, 'count': 1}\n",
      "{'_id': 3.651315789473684, 'count': 1}\n",
      "{'_id': 3.65, 'count': 1}\n",
      "{'_id': 3.6496095355528153, 'count': 1}\n",
      "{'_id': 3.6458333333333335, 'count': 1}\n",
      "{'_id': 3.644461077844311, 'count': 1}\n",
      "{'_id': 3.6372549019607843, 'count': 1}\n",
      "{'_id': 3.6344178082191783, 'count': 1}\n",
      "{'_id': 3.632142857142857, 'count': 1}\n",
      "{'_id': 3.6319365798414496, 'count': 1}\n",
      "{'_id': 3.625, 'count': 2}\n",
      "{'_id': 3.6244725738396624, 'count': 1}\n",
      "{'_id': 3.6236933797909407, 'count': 1}\n",
      "{'_id': 3.620967741935484, 'count': 1}\n",
      "{'_id': 3.6206896551724137, 'count': 1}\n",
      "{'_id': 3.620218579234973, 'count': 1}\n",
      "{'_id': 3.6184738955823295, 'count': 1}\n",
      "{'_id': 3.6160595425390296, 'count': 1}\n",
      "{'_id': 3.6133333333333333, 'count': 1}\n",
      "{'_id': 3.611515378844711, 'count': 1}\n",
      "{'_id': 3.607142857142857, 'count': 1}\n",
      "{'_id': 3.604534005037783, 'count': 1}\n",
      "{'_id': 3.6, 'count': 2}\n",
      "{'_id': 3.5991379310344827, 'count': 1}\n",
      "{'_id': 3.597902097902098, 'count': 1}\n",
      "{'_id': 3.5953488372093023, 'count': 1}\n",
      "{'_id': 3.59375, 'count': 1}\n",
      "{'_id': 3.593220338983051, 'count': 1}\n",
      "{'_id': 3.5923566878980893, 'count': 1}\n",
      "{'_id': 3.5878378378378377, 'count': 1}\n",
      "{'_id': 3.5853658536585367, 'count': 1}\n",
      "{'_id': 3.5833333333333335, 'count': 3}\n",
      "{'_id': 3.581081081081081, 'count': 1}\n",
      "{'_id': 3.5780911062906724, 'count': 1}\n",
      "{'_id': 3.577639751552795, 'count': 1}\n",
      "{'_id': 3.576923076923077, 'count': 1}\n",
      "{'_id': 3.5728476821192054, 'count': 1}\n",
      "{'_id': 3.572354211663067, 'count': 1}\n",
      "{'_id': 3.572265625, 'count': 1}\n",
      "{'_id': 3.572172619047619, 'count': 1}\n",
      "{'_id': 3.571748878923767, 'count': 1}\n",
      "{'_id': 3.5714285714285716, 'count': 1}\n",
      "{'_id': 3.5636363636363635, 'count': 1}\n",
      "{'_id': 3.563275434243176, 'count': 1}\n",
      "{'_id': 3.5625, 'count': 1}\n",
      "{'_id': 3.56198347107438, 'count': 1}\n",
      "{'_id': 3.5595533498759306, 'count': 1}\n",
      "{'_id': 3.558252427184466, 'count': 1}\n",
      "{'_id': 3.5526315789473686, 'count': 1}\n",
      "{'_id': 3.5510204081632653, 'count': 1}\n",
      "{'_id': 3.54009647271631, 'count': 1}\n",
      "{'_id': 3.5376045877597067, 'count': 1}\n",
      "{'_id': 3.5361035422343323, 'count': 1}\n",
      "{'_id': 3.535224153705398, 'count': 1}\n",
      "{'_id': 3.5339506172839505, 'count': 1}\n",
      "{'_id': 3.533333333333333, 'count': 1}\n",
      "{'_id': 3.529816513761468, 'count': 1}\n",
      "{'_id': 3.5294117647058822, 'count': 1}\n",
      "{'_id': 3.5256410256410255, 'count': 1}\n",
      "{'_id': 3.5253164556962027, 'count': 1}\n",
      "{'_id': 3.523826514430701, 'count': 1}\n",
      "{'_id': 3.521594684385382, 'count': 1}\n",
      "{'_id': 3.5176579925650557, 'count': 1}\n",
      "{'_id': 3.515625, 'count': 1}\n",
      "{'_id': 3.5155917788802267, 'count': 1}\n",
      "{'_id': 3.5114942528735633, 'count': 1}\n",
      "{'_id': 3.506172839506173, 'count': 1}\n",
      "{'_id': 3.5029895366218238, 'count': 1}\n",
      "{'_id': 3.5, 'count': 66}\n",
      "{'_id': 3.497560975609756, 'count': 1}\n",
      "{'_id': 3.4970238095238093, 'count': 1}\n",
      "{'_id': 3.4966887417218544, 'count': 1}\n",
      "{'_id': 3.4956709956709955, 'count': 1}\n",
      "{'_id': 3.490566037735849, 'count': 1}\n",
      "{'_id': 3.487309644670051, 'count': 1}\n",
      "{'_id': 3.4835526315789473, 'count': 1}\n",
      "{'_id': 3.477832512315271, 'count': 1}\n",
      "{'_id': 3.477064220183486, 'count': 1}\n",
      "{'_id': 3.4747899159663866, 'count': 1}\n",
      "{'_id': 3.4731800766283527, 'count': 1}\n",
      "{'_id': 3.46875, 'count': 1}\n",
      "{'_id': 3.4681933842239188, 'count': 1}\n",
      "{'_id': 3.4629237288135593, 'count': 1}\n",
      "{'_id': 3.4583333333333335, 'count': 1}\n",
      "{'_id': 3.455621301775148, 'count': 1}\n",
      "{'_id': 3.4475806451612905, 'count': 1}\n",
      "{'_id': 3.447136563876652, 'count': 1}\n",
      "{'_id': 3.446078431372549, 'count': 1}\n",
      "{'_id': 3.426890756302521, 'count': 1}\n",
      "{'_id': 3.4205298013245033, 'count': 1}\n",
      "{'_id': 3.4173228346456694, 'count': 1}\n",
      "{'_id': 3.4166666666666665, 'count': 1}\n",
      "{'_id': 3.413978494623656, 'count': 1}\n",
      "{'_id': 3.4135802469135803, 'count': 1}\n",
      "{'_id': 3.408536585365854, 'count': 1}\n",
      "{'_id': 3.4065934065934065, 'count': 1}\n",
      "{'_id': 3.402439024390244, 'count': 1}\n",
      "{'_id': 3.3823529411764706, 'count': 1}\n",
      "{'_id': 3.3814229249011856, 'count': 1}\n",
      "{'_id': 3.38, 'count': 1}\n",
      "{'_id': 3.3795493934142113, 'count': 1}\n",
      "{'_id': 3.378177966101695, 'count': 1}\n",
      "{'_id': 3.375, 'count': 1}\n",
      "{'_id': 3.3653846153846154, 'count': 1}\n",
      "{'_id': 3.3645833333333335, 'count': 1}\n",
      "{'_id': 3.3636363636363638, 'count': 1}\n",
      "{'_id': 3.3622448979591835, 'count': 1}\n",
      "{'_id': 3.361111111111111, 'count': 1}\n",
      "{'_id': 3.359447004608295, 'count': 1}\n",
      "{'_id': 3.3594202898550725, 'count': 1}\n",
      "{'_id': 3.3333333333333335, 'count': 6}\n",
      "{'_id': 3.3316831683168315, 'count': 1}\n",
      "{'_id': 3.3308823529411766, 'count': 1}\n",
      "{'_id': 3.3280632411067192, 'count': 1}\n",
      "{'_id': 3.324074074074074, 'count': 1}\n",
      "{'_id': 3.3228254524226504, 'count': 1}\n",
      "{'_id': 3.3182515337423313, 'count': 1}\n",
      "{'_id': 3.309090909090909, 'count': 1}\n",
      "{'_id': 3.3080357142857144, 'count': 1}\n",
      "{'_id': 3.3055555555555554, 'count': 1}\n",
      "{'_id': 3.3, 'count': 2}\n",
      "{'_id': 3.298816568047337, 'count': 1}\n",
      "{'_id': 3.2976190476190474, 'count': 1}\n",
      "{'_id': 3.2959240647682857, 'count': 1}\n",
      "{'_id': 3.294392523364486, 'count': 1}\n",
      "{'_id': 3.2857142857142856, 'count': 1}\n",
      "{'_id': 3.272727272727273, 'count': 1}\n",
      "{'_id': 3.2604166666666665, 'count': 1}\n",
      "{'_id': 3.257575757575758, 'count': 1}\n",
      "{'_id': 3.2518248175182483, 'count': 1}\n",
      "{'_id': 3.25, 'count': 3}\n",
      "{'_id': 3.2490196078431373, 'count': 1}\n",
      "{'_id': 3.230769230769231, 'count': 1}\n",
      "{'_id': 3.2083333333333335, 'count': 1}\n",
      "{'_id': 3.2, 'count': 3}\n",
      "{'_id': 3.1742424242424243, 'count': 1}\n",
      "{'_id': 3.1666666666666665, 'count': 8}\n",
      "{'_id': 3.1607142857142856, 'count': 1}\n",
      "{'_id': 3.1333333333333333, 'count': 1}\n",
      "{'_id': 3.125, 'count': 4}\n",
      "{'_id': 3.122516556291391, 'count': 1}\n",
      "{'_id': 3.0660377358490565, 'count': 1}\n",
      "{'_id': 3.0588235294117645, 'count': 1}\n",
      "{'_id': 3.0576923076923075, 'count': 1}\n",
      "{'_id': 3.0053475935828877, 'count': 1}\n",
      "{'_id': 3.0, 'count': 55}\n",
      "{'_id': 2.9574468085106385, 'count': 1}\n",
      "{'_id': 2.9, 'count': 1}\n",
      "{'_id': 2.875, 'count': 1}\n",
      "{'_id': 2.8333333333333335, 'count': 3}\n",
      "{'_id': 2.8, 'count': 2}\n",
      "{'_id': 2.75, 'count': 6}\n",
      "{'_id': 2.7, 'count': 1}\n",
      "{'_id': 2.6666666666666665, 'count': 2}\n",
      "{'_id': 2.6, 'count': 1}\n",
      "{'_id': 2.525, 'count': 1}\n",
      "{'_id': 2.5, 'count': 41}\n",
      "{'_id': 2.269230769230769, 'count': 1}\n",
      "{'_id': 2.25, 'count': 3}\n",
      "{'_id': 2.0, 'count': 27}\n",
      "{'_id': 1.75, 'count': 1}\n",
      "{'_id': 1.5, 'count': 16}\n",
      "{'_id': 1.0, 'count': 7}\n"
     ]
    }
   ],
   "source": [
    "avg_stars_per_city_counts = yelp_collection.aggregate(\n",
    "        [\n",
    "            {\"$group\" : \n",
    "                {\"_id\" : \"$city\", \n",
    "                \"avg_stars\" : {\"$avg\" : \"$stars\"}\n",
    "            }},\n",
    "            \n",
    "            {\"$group\" :\n",
    "                {\"_id\" : \"$avg_stars\",\n",
    "                \"count\" : {\"$sum\" : 1}}},\n",
    "                        \n",
    "            {'$sort' : {'_id' : -1}},\n",
    "    ])\n",
    "    \n",
    "for i in avg_stars_per_city_counts:\n",
    "    pprint(i)"
   ]
  },
  {
   "cell_type": "markdown",
   "metadata": {},
   "source": [
    "#### Q6. How many locations are within 5000 meters of Mr G's Pizza & Subs"
   ]
  },
  {
   "cell_type": "code",
   "execution_count": 74,
   "metadata": {},
   "outputs": [
    {
     "data": {
      "text/plain": [
       "1122"
      ]
     },
     "execution_count": 74,
     "metadata": {},
     "output_type": "execute_result"
    }
   ],
   "source": [
    "\n",
    "target = yelp_collection.find_one({'name' : 'Mr G\\'s Pizza & Subs'})['geoloc']\n",
    "\n",
    "res = yelp_collection.find({\n",
    "    \"geoloc\": {\n",
    "        '$near': {\n",
    "            '$geometry':\n",
    "                target,\n",
    "                '$maxDistance': 5000\n",
    "        }\n",
    "    }\n",
    "})\n",
    "\n",
    "len(list(res))"
   ]
  },
  {
   "cell_type": "code",
   "execution_count": 39,
   "metadata": {},
   "outputs": [
    {
     "name": "stdout",
     "output_type": "stream",
     "text": [
      "{'coordinates': [Decimal128('-70.9734380000000'),\n",
      "                 Decimal128('42.5411550000000')],\n",
      " 'type': 'Point'}\n"
     ]
    }
   ],
   "source": [
    "pprint(yelp_collection.find_one({'name' : 'Mr G\\'s Pizza & Subs'})['geoloc'])"
   ]
  },
  {
   "cell_type": "markdown",
   "metadata": {},
   "source": [
    "#### Q7. "
   ]
  },
  {
   "cell_type": "code",
   "execution_count": null,
   "metadata": {},
   "outputs": [],
   "source": []
  },
  {
   "cell_type": "markdown",
   "metadata": {},
   "source": [
    "#### Q8."
   ]
  },
  {
   "cell_type": "code",
   "execution_count": null,
   "metadata": {},
   "outputs": [],
   "source": []
  },
  {
   "cell_type": "markdown",
   "metadata": {},
   "source": [
    "#### Q9. "
   ]
  },
  {
   "cell_type": "code",
   "execution_count": null,
   "metadata": {},
   "outputs": [],
   "source": []
  },
  {
   "cell_type": "markdown",
   "metadata": {},
   "source": [
    "##### Q10. "
   ]
  },
  {
   "cell_type": "code",
   "execution_count": null,
   "metadata": {},
   "outputs": [],
   "source": []
  },
  {
   "cell_type": "code",
   "execution_count": null,
   "metadata": {},
   "outputs": [],
   "source": []
  },
  {
   "cell_type": "code",
   "execution_count": null,
   "metadata": {},
   "outputs": [],
   "source": []
  },
  {
   "cell_type": "code",
   "execution_count": null,
   "metadata": {},
   "outputs": [],
   "source": []
  }
 ],
 "metadata": {
  "interpreter": {
   "hash": "fa56ab3708cd3b998ef87f57af2a9e8ce5fcc945dc3d227a7e9bfb211d05ff6b"
  },
  "kernelspec": {
   "display_name": "Python 3.8.8 ('base')",
   "language": "python",
   "name": "python3"
  },
  "language_info": {
   "codemirror_mode": {
    "name": "ipython",
    "version": 3
   },
   "file_extension": ".py",
   "mimetype": "text/x-python",
   "name": "python",
   "nbconvert_exporter": "python",
   "pygments_lexer": "ipython3",
   "version": "3.8.8"
  },
  "orig_nbformat": 4
 },
 "nbformat": 4,
 "nbformat_minor": 2
}
