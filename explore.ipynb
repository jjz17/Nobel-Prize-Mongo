{
 "cells": [
  {
   "cell_type": "code",
   "execution_count": 6,
   "metadata": {},
   "outputs": [],
   "source": [
    "import numpy as np\n",
    "import pandas as pd\n",
    "import matplotlib.pyplot as plt\n",
    "import seaborn as sns\n",
    "\n",
    "import json\n",
    "import requests\n",
    "\n",
    "import pymongo\n",
    "from pymongo import MongoClient\n",
    "from pprint import pprint"
   ]
  },
  {
   "cell_type": "markdown",
   "metadata": {},
   "source": [
    "# PyMongo Setup and Querying"
   ]
  },
  {
   "cell_type": "code",
   "execution_count": 4,
   "metadata": {},
   "outputs": [],
   "source": [
    "client = MongoClient()\n",
    "db = client['DS4300']\n",
    "yelp_collection = db['Yelp']"
   ]
  },
  {
   "cell_type": "code",
   "execution_count": 7,
   "metadata": {},
   "outputs": [
    {
     "name": "stdout",
     "output_type": "stream",
     "text": [
      "{'_id': ObjectId('622198b2b5127b859164a21e'),\n",
      " 'address': '921 Pearl St',\n",
      " 'attributes': {'Alcohol': \"'beer_and_wine'\",\n",
      "                'Ambience': \"{'touristy': False, 'hipster': False, 'romantic': \"\n",
      "                            \"False, 'divey': False, 'intimate': False, \"\n",
      "                            \"'trendy': False, 'upscale': False, 'classy': \"\n",
      "                            \"False, 'casual': True}\",\n",
      "                'BikeParking': 'True',\n",
      "                'BusinessAcceptsBitcoin': 'False',\n",
      "                'BusinessAcceptsCreditCards': 'True',\n",
      "                'BusinessParking': \"{'garage': False, 'street': True, \"\n",
      "                                   \"'validated': False, 'lot': False, 'valet': \"\n",
      "                                   'False}',\n",
      "                'Caters': 'True',\n",
      "                'DogsAllowed': 'False',\n",
      "                'GoodForMeal': \"{'dessert': False, 'latenight': False, \"\n",
      "                               \"'lunch': False, 'dinner': False, 'brunch': \"\n",
      "                               \"False, 'breakfast': False}\",\n",
      "                'HappyHour': 'True',\n",
      "                'HasTV': 'True',\n",
      "                'NoiseLevel': \"u'average'\",\n",
      "                'OutdoorSeating': 'True',\n",
      "                'RestaurantsAttire': \"'casual'\",\n",
      "                'RestaurantsDelivery': 'None',\n",
      "                'RestaurantsGoodForGroups': 'True',\n",
      "                'RestaurantsPriceRange2': '2',\n",
      "                'RestaurantsReservations': 'False',\n",
      "                'RestaurantsTableService': 'True',\n",
      "                'RestaurantsTakeOut': 'True',\n",
      "                'WheelchairAccessible': 'True',\n",
      "                'WiFi': \"u'free'\"},\n",
      " 'business_id': '6iYb2HFDywm3zjuRg0shjw',\n",
      " 'categories': 'Gastropubs, Food, Beer Gardens, Restaurants, Bars, American '\n",
      "               '(Traditional), Beer Bar, Nightlife, Breweries',\n",
      " 'city': 'Boulder',\n",
      " 'hours': {'Friday': '11:0-23:0',\n",
      "           'Monday': '11:0-23:0',\n",
      "           'Saturday': '11:0-23:0',\n",
      "           'Sunday': '11:0-23:0',\n",
      "           'Thursday': '11:0-23:0',\n",
      "           'Tuesday': '11:0-23:0',\n",
      "           'Wednesday': '11:0-23:0'},\n",
      " 'is_open': 1,\n",
      " 'latitude': 40.0175444,\n",
      " 'longitude': -105.2833481,\n",
      " 'name': 'Oskar Blues Taproom',\n",
      " 'postal_code': '80302',\n",
      " 'review_count': 86,\n",
      " 'stars': 4,\n",
      " 'state': 'CO'}\n"
     ]
    }
   ],
   "source": [
    "# Example document\n",
    "pprint(yelp_collection.find_one())"
   ]
  },
  {
   "cell_type": "markdown",
   "metadata": {},
   "source": [
    "#### Q1. How many establishments have 5 stars?"
   ]
  },
  {
   "cell_type": "code",
   "execution_count": 52,
   "metadata": {},
   "outputs": [
    {
     "data": {
      "text/plain": [
       "19953"
      ]
     },
     "execution_count": 52,
     "metadata": {},
     "output_type": "execute_result"
    }
   ],
   "source": [
    "num_5_stars = yelp_collection.find({'stars': 5})\n",
    "len(list(num_5_stars))"
   ]
  },
  {
   "cell_type": "markdown",
   "metadata": {},
   "source": [
    "#### Q2. Which establishment has the least stars?"
   ]
  },
  {
   "cell_type": "code",
   "execution_count": 53,
   "metadata": {},
   "outputs": [
    {
     "data": {
      "text/plain": [
       "{'_id': ObjectId('622198b2b5127b859164a251'),\n",
       " 'business_id': 'w4qVflIAbdklzG3mnKmQsg',\n",
       " 'name': 'Magical Pizza Express',\n",
       " 'address': '3262 Vineland Rd, Ste 106',\n",
       " 'city': 'Orlando',\n",
       " 'state': 'FL',\n",
       " 'postal_code': '32811',\n",
       " 'latitude': 28.5205,\n",
       " 'longitude': -81.44395,\n",
       " 'stars': 1,\n",
       " 'review_count': 8,\n",
       " 'is_open': 1,\n",
       " 'attributes': {'RestaurantsAttire': \"u'casual'\",\n",
       "  'Alcohol': \"u'none'\",\n",
       "  'Ambience': \"{'romantic': False, 'intimate': False, 'touristy': False, 'hipster': False, 'divey': False, 'classy': False, 'trendy': False, 'upscale': False, 'casual': False}\"},\n",
       " 'categories': 'Italian, Restaurants',\n",
       " 'hours': None}"
      ]
     },
     "execution_count": 53,
     "metadata": {},
     "output_type": "execute_result"
    }
   ],
   "source": [
    "least_stars = yelp_collection.find_one(sort=[('stars', 1)])\n",
    "least_stars"
   ]
  },
  {
   "cell_type": "markdown",
   "metadata": {},
   "source": [
    "#### Q3. What is the count of establishments for each star rating?"
   ]
  },
  {
   "cell_type": "code",
   "execution_count": 54,
   "metadata": {},
   "outputs": [
    {
     "name": "stdout",
     "output_type": "stream",
     "text": [
      "{'_id': 1, 'num_establishments': 1686}\n",
      "{'_id': 1.5, 'num_establishments': 4157}\n",
      "{'_id': 2, 'num_establishments': 8523}\n",
      "{'_id': 2.5, 'num_establishments': 13720}\n",
      "{'_id': 3, 'num_establishments': 21583}\n",
      "{'_id': 3.5, 'num_establishments': 28835}\n",
      "{'_id': 4, 'num_establishments': 34056}\n",
      "{'_id': 4.5, 'num_establishments': 28072}\n",
      "{'_id': 5, 'num_establishments': 19953}\n"
     ]
    }
   ],
   "source": [
    "star_counts = yelp_collection.aggregate(\n",
    "        [{\"$group\" : \n",
    "            {\"_id\" : \"$stars\", \n",
    "            \"num_establishments\" : {\"$sum\" : 1}\n",
    "         }},\n",
    "         {'$sort' : \n",
    "            {'_id' : 1}}\n",
    "    ])\n",
    "    \n",
    "for i in star_counts:\n",
    "    print(i)"
   ]
  },
  {
   "cell_type": "markdown",
   "metadata": {},
   "source": [
    "#### Q4. "
   ]
  },
  {
   "cell_type": "code",
   "execution_count": null,
   "metadata": {},
   "outputs": [],
   "source": []
  }
 ],
 "metadata": {
  "interpreter": {
   "hash": "fa56ab3708cd3b998ef87f57af2a9e8ce5fcc945dc3d227a7e9bfb211d05ff6b"
  },
  "kernelspec": {
   "display_name": "Python 3.8.8 ('base')",
   "language": "python",
   "name": "python3"
  },
  "language_info": {
   "codemirror_mode": {
    "name": "ipython",
    "version": 3
   },
   "file_extension": ".py",
   "mimetype": "text/x-python",
   "name": "python",
   "nbconvert_exporter": "python",
   "pygments_lexer": "ipython3",
   "version": "3.8.8"
  },
  "orig_nbformat": 4
 },
 "nbformat": 4,
 "nbformat_minor": 2
}
