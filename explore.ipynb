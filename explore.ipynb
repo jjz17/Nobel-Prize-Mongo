{
 "cells": [
  {
   "cell_type": "code",
   "execution_count": 6,
   "metadata": {},
   "outputs": [],
   "source": [
    "import numpy as np\n",
    "import pandas as pd\n",
    "import matplotlib.pyplot as plt\n",
    "import seaborn as sns\n",
    "\n",
    "import json\n",
    "import requests\n",
    "\n",
    "import pymongo\n",
    "from pymongo import MongoClient\n",
    "from pprint import pprint\n",
    "\n",
    "\n",
    "'''\n",
    "db.Yelp.aggregate([\n",
    "  {\n",
    "    \"$set\": {\n",
    "      \"geoloc\" : {\n",
    "      \"type\" : \"Point\",\n",
    "      \"coordinates\" : [\n",
    "        {\"$toDecimal\" : \"$longitude\"},\n",
    "        {\"$toDecimal\" : \"$latitude\"}\n",
    "        ]\n",
    "      }\n",
    "}}, {\n",
    "    \"$project\" : { \"<$longitude>\": 0, \"<$latitude>\": 0}\n",
    "}])\n",
    "\n",
    "\n",
    "db.Yelp.aggregate([\n",
    "   { $addFields: { \n",
    "    geoloc: {\n",
    "      \"type\" : \"Point\",\n",
    "      \"coordinates\" : [\n",
    "        {\"$toDecimal\" : \"$longitude\"},\n",
    "        {\"$toDecimal\" : \"$latitude\"}\n",
    "        ]\n",
    "      }\n",
    "    }\n",
    "  },\n",
    "  { $out : \"YelpGeo\" }\n",
    "])\n",
    "'''"
   ]
  },
  {
   "cell_type": "markdown",
   "metadata": {},
   "source": [
    "# PyMongo Setup and Querying"
   ]
  },
  {
   "cell_type": "code",
   "execution_count": 15,
   "metadata": {},
   "outputs": [],
   "source": [
    "client = MongoClient()\n",
    "db = client['DS4300']\n",
    "yelp_collection = db['YelpGeo']"
   ]
  },
  {
   "cell_type": "code",
   "execution_count": 36,
   "metadata": {},
   "outputs": [
    {
     "name": "stdout",
     "output_type": "stream",
     "text": [
      "{'_id': ObjectId('622198b2b5127b859164a21e'),\n",
      " 'address': '921 Pearl St',\n",
      " 'attributes': {'Alcohol': \"'beer_and_wine'\",\n",
      "                'Ambience': \"{'touristy': False, 'hipster': False, 'romantic': \"\n",
      "                            \"False, 'divey': False, 'intimate': False, \"\n",
      "                            \"'trendy': False, 'upscale': False, 'classy': \"\n",
      "                            \"False, 'casual': True}\",\n",
      "                'BikeParking': 'True',\n",
      "                'BusinessAcceptsBitcoin': 'False',\n",
      "                'BusinessAcceptsCreditCards': 'True',\n",
      "                'BusinessParking': \"{'garage': False, 'street': True, \"\n",
      "                                   \"'validated': False, 'lot': False, 'valet': \"\n",
      "                                   'False}',\n",
      "                'Caters': 'True',\n",
      "                'DogsAllowed': 'False',\n",
      "                'GoodForMeal': \"{'dessert': False, 'latenight': False, \"\n",
      "                               \"'lunch': False, 'dinner': False, 'brunch': \"\n",
      "                               \"False, 'breakfast': False}\",\n",
      "                'HappyHour': 'True',\n",
      "                'HasTV': 'True',\n",
      "                'NoiseLevel': \"u'average'\",\n",
      "                'OutdoorSeating': 'True',\n",
      "                'RestaurantsAttire': \"'casual'\",\n",
      "                'RestaurantsDelivery': 'None',\n",
      "                'RestaurantsGoodForGroups': 'True',\n",
      "                'RestaurantsPriceRange2': '2',\n",
      "                'RestaurantsReservations': 'False',\n",
      "                'RestaurantsTableService': 'True',\n",
      "                'RestaurantsTakeOut': 'True',\n",
      "                'WheelchairAccessible': 'True',\n",
      "                'WiFi': \"u'free'\"},\n",
      " 'business_id': '6iYb2HFDywm3zjuRg0shjw',\n",
      " 'categories': 'Gastropubs, Food, Beer Gardens, Restaurants, Bars, American '\n",
      "               '(Traditional), Beer Bar, Nightlife, Breweries',\n",
      " 'city': 'Boulder',\n",
      " 'geoloc': {'coordinates': [Decimal128('-105.283348100000'),\n",
      "                            Decimal128('40.0175444000000')],\n",
      "            'type': 'Point'},\n",
      " 'hours': {'Friday': '11:0-23:0',\n",
      "           'Monday': '11:0-23:0',\n",
      "           'Saturday': '11:0-23:0',\n",
      "           'Sunday': '11:0-23:0',\n",
      "           'Thursday': '11:0-23:0',\n",
      "           'Tuesday': '11:0-23:0',\n",
      "           'Wednesday': '11:0-23:0'},\n",
      " 'is_open': 1,\n",
      " 'latitude': 40.0175444,\n",
      " 'longitude': -105.2833481,\n",
      " 'name': 'Oskar Blues Taproom',\n",
      " 'postal_code': '80302',\n",
      " 'review_count': 86,\n",
      " 'stars': 4,\n",
      " 'state': 'CO'}\n"
     ]
    }
   ],
   "source": [
    "# Example document\n",
    "pprint(yelp_collection.find_one())"
   ]
  },
  {
   "cell_type": "markdown",
   "metadata": {},
   "source": [
    "#### Q1. How many establishments have 5 stars?"
   ]
  },
  {
   "cell_type": "code",
   "execution_count": 17,
   "metadata": {},
   "outputs": [
    {
     "data": {
      "text/plain": [
       "19953"
      ]
     },
     "execution_count": 17,
     "metadata": {},
     "output_type": "execute_result"
    }
   ],
   "source": [
    "num_5_stars = yelp_collection.find({'stars': 5})\n",
    "len(list(num_5_stars))"
   ]
  },
  {
   "cell_type": "markdown",
   "metadata": {},
   "source": [
    "#### Q2. Which establishment has the least stars?"
   ]
  },
  {
   "cell_type": "code",
   "execution_count": 18,
   "metadata": {},
   "outputs": [
    {
     "name": "stdout",
     "output_type": "stream",
     "text": [
      "{'_id': ObjectId('622198b2b5127b859164a251'),\n",
      " 'address': '3262 Vineland Rd, Ste 106',\n",
      " 'attributes': {'Alcohol': \"u'none'\",\n",
      "                'Ambience': \"{'romantic': False, 'intimate': False, \"\n",
      "                            \"'touristy': False, 'hipster': False, 'divey': \"\n",
      "                            \"False, 'classy': False, 'trendy': False, \"\n",
      "                            \"'upscale': False, 'casual': False}\",\n",
      "                'RestaurantsAttire': \"u'casual'\"},\n",
      " 'business_id': 'w4qVflIAbdklzG3mnKmQsg',\n",
      " 'categories': 'Italian, Restaurants',\n",
      " 'city': 'Orlando',\n",
      " 'geoloc': {'coordinates': [Decimal128('-81.4439500000000'),\n",
      "                            Decimal128('28.5205000000000')],\n",
      "            'type': 'Point'},\n",
      " 'hours': None,\n",
      " 'is_open': 1,\n",
      " 'latitude': 28.5205,\n",
      " 'longitude': -81.44395,\n",
      " 'name': 'Magical Pizza Express',\n",
      " 'postal_code': '32811',\n",
      " 'review_count': 8,\n",
      " 'stars': 1,\n",
      " 'state': 'FL'}\n"
     ]
    }
   ],
   "source": [
    "least_stars = yelp_collection.find_one(sort=[('stars', 1)])\n",
    "pprint(least_stars)"
   ]
  },
  {
   "cell_type": "markdown",
   "metadata": {},
   "source": [
    "#### Q3. What is the count of establishments for each star rating?"
   ]
  },
  {
   "cell_type": "code",
   "execution_count": 9,
   "metadata": {},
   "outputs": [
    {
     "name": "stdout",
     "output_type": "stream",
     "text": [
      "{'_id': 1, 'num_establishments': 1686}\n",
      "{'_id': 1.5, 'num_establishments': 4157}\n",
      "{'_id': 2, 'num_establishments': 8523}\n",
      "{'_id': 2.5, 'num_establishments': 13720}\n",
      "{'_id': 3, 'num_establishments': 21583}\n",
      "{'_id': 3.5, 'num_establishments': 28835}\n",
      "{'_id': 4, 'num_establishments': 34056}\n",
      "{'_id': 4.5, 'num_establishments': 28072}\n",
      "{'_id': 5, 'num_establishments': 19953}\n"
     ]
    }
   ],
   "source": [
    "star_counts = yelp_collection.aggregate(\n",
    "        [{\"$group\" : \n",
    "            {\"_id\" : \"$stars\", \n",
    "            \"num_establishments\" : {\"$sum\" : 1}\n",
    "         }},\n",
    "         {'$sort' : \n",
    "            {'_id' : 1}}\n",
    "    ])\n",
    "    \n",
    "for i in star_counts:\n",
    "    pprint(i)"
   ]
  },
  {
   "cell_type": "code",
   "execution_count": null,
   "metadata": {},
   "outputs": [],
   "source": []
  },
  {
   "cell_type": "markdown",
   "metadata": {},
   "source": [
    "#### Q4. What is the count of establishments for each star rating in Boston?"
   ]
  },
  {
   "cell_type": "code",
   "execution_count": 49,
   "metadata": {},
   "outputs": [
    {
     "name": "stdout",
     "output_type": "stream",
     "text": [
      "{'_id': 1, 'num_establishments': 97}\n",
      "{'_id': 1.5, 'num_establishments': 194}\n",
      "{'_id': 2, 'num_establishments': 395}\n",
      "{'_id': 2.5, 'num_establishments': 705}\n",
      "{'_id': 3, 'num_establishments': 1233}\n",
      "{'_id': 3.5, 'num_establishments': 1674}\n",
      "{'_id': 4, 'num_establishments': 1788}\n",
      "{'_id': 4.5, 'num_establishments': 1312}\n",
      "{'_id': 5, 'num_establishments': 865}\n"
     ]
    }
   ],
   "source": [
    "star_counts = yelp_collection.aggregate(\n",
    "        [\n",
    "            { '$match' : { 'city' : 'Boston' } },\n",
    "            {\"$group\" : \n",
    "            {\"_id\" : \"$stars\", \n",
    "            \"num_establishments\" : {\"$sum\" : 1}\n",
    "            }},\n",
    "        #  { '$match' : { 'city' : 'Boston' } },\n",
    "            {'$sort' : {'_id' : 1}}\n",
    "    ])\n",
    "    \n",
    "for i in star_counts:\n",
    "    pprint(i)"
   ]
  },
  {
   "cell_type": "markdown",
   "metadata": {},
   "source": [
    "#### Q4. How many establishments are open for all meals?"
   ]
  },
  {
   "cell_type": "code",
   "execution_count": 43,
   "metadata": {},
   "outputs": [
    {
     "data": {
      "text/plain": [
       "8263"
      ]
     },
     "execution_count": 43,
     "metadata": {},
     "output_type": "execute_result"
    }
   ],
   "source": [
    "num_all_open = yelp_collection.find({ 'city' : 'Boston' })\n",
    "len(list(num_all_open))"
   ]
  },
  {
   "cell_type": "code",
   "execution_count": 14,
   "metadata": {},
   "outputs": [
    {
     "ename": "IndentationError",
     "evalue": "unexpected indent (<ipython-input-14-6629043e1a76>, line 2)",
     "output_type": "error",
     "traceback": [
      "\u001b[0;36m  File \u001b[0;32m\"<ipython-input-14-6629043e1a76>\"\u001b[0;36m, line \u001b[0;32m2\u001b[0m\n\u001b[0;31m    \"'lunch': False, 'dinner': False, 'brunch': \"\u001b[0m\n\u001b[0m    ^\u001b[0m\n\u001b[0;31mIndentationError\u001b[0m\u001b[0;31m:\u001b[0m unexpected indent\n"
     ]
    }
   ],
   "source": [
    "# 'GoodForMeal': \"{'dessert': False, 'latenight': False, \"\n",
    "#                                \"'lunch': False, 'dinner': False, 'brunch': \"\n",
    "#                                \"False, 'breakfast': False}\","
   ]
  },
  {
   "cell_type": "markdown",
   "metadata": {},
   "source": [
    "#### Q5. How many locations are within 5000 meters of Mr G's Pizza & Subs"
   ]
  },
  {
   "cell_type": "code",
   "execution_count": 41,
   "metadata": {},
   "outputs": [
    {
     "data": {
      "text/plain": [
       "1122"
      ]
     },
     "execution_count": 41,
     "metadata": {},
     "output_type": "execute_result"
    }
   ],
   "source": [
    "\n",
    "target = yelp_collection.find_one({'name' : 'Mr G\\'s Pizza & Subs'})['geoloc']\n",
    "\n",
    "res = yelp_collection.find({\n",
    "    \"geoloc\": {\n",
    "        '$near': {\n",
    "            '$geometry':\n",
    "                target,\n",
    "                '$maxDistance': 5000\n",
    "        }\n",
    "    }\n",
    "})\n",
    "\n",
    "len(list(res))"
   ]
  },
  {
   "cell_type": "code",
   "execution_count": 39,
   "metadata": {},
   "outputs": [
    {
     "name": "stdout",
     "output_type": "stream",
     "text": [
      "{'coordinates': [Decimal128('-70.9734380000000'),\n",
      "                 Decimal128('42.5411550000000')],\n",
      " 'type': 'Point'}\n"
     ]
    }
   ],
   "source": [
    "pprint(yelp_collection.find_one({'name' : 'Mr G\\'s Pizza & Subs'})['geoloc'])"
   ]
  }
 ],
 "metadata": {
  "interpreter": {
   "hash": "fa56ab3708cd3b998ef87f57af2a9e8ce5fcc945dc3d227a7e9bfb211d05ff6b"
  },
  "kernelspec": {
   "display_name": "Python 3.8.8 ('base')",
   "language": "python",
   "name": "python3"
  },
  "language_info": {
   "codemirror_mode": {
    "name": "ipython",
    "version": 3
   },
   "file_extension": ".py",
   "mimetype": "text/x-python",
   "name": "python",
   "nbconvert_exporter": "python",
   "pygments_lexer": "ipython3",
   "version": "3.8.8"
  },
  "orig_nbformat": 4
 },
 "nbformat": 4,
 "nbformat_minor": 2
}
